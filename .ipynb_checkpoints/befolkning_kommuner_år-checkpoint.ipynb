{
 "cells": [
  {
   "cell_type": "code",
   "execution_count": 2,
   "metadata": {},
   "outputs": [],
   "source": [
    "import requests\n",
    "import pandas as pd\n",
    "import geopandas as gpd"
   ]
  },
  {
   "cell_type": "code",
   "execution_count": 3,
   "metadata": {},
   "outputs": [],
   "source": [
    "dfg = gpd.read_file('https://raw.githubusercontent.com/datasett/maps/master/norway/data/counties_2018_s_geojson.json')"
   ]
  },
  {
   "cell_type": "code",
   "execution_count": 9,
   "metadata": {},
   "outputs": [
    {
     "data": {
      "text/plain": [
       "Index(['id', 'kommunenummer', 'oppdateringsdato', 'navn', 'area_kommune',\n",
       "       'fylke_nummer_2018', 'fylke_nummer_2019', 'fylke_navn_2019',\n",
       "       'fylke_nummer_2020', 'fylke_navn_2020', 'geometry'],\n",
       "      dtype='object')"
      ]
     },
     "execution_count": 9,
     "metadata": {},
     "output_type": "execute_result"
    }
   ],
   "source": [
    "dfg.columns"
   ]
  },
  {
   "cell_type": "code",
   "execution_count": 10,
   "metadata": {},
   "outputs": [],
   "source": [
    "df = pd.read_json('https://raw.githubusercontent.com/datasett/maps/master/norway/data/counties_2018_s_geojson.json')"
   ]
  },
  {
   "cell_type": "code",
   "execution_count": 61,
   "metadata": {},
   "outputs": [],
   "source": [
    "kommuner = []\n",
    "for index, row in df.iterrows():\n",
    "    kommuner.append(row.features['properties'])\n",
    "    "
   ]
  },
  {
   "cell_type": "code",
   "execution_count": 82,
   "metadata": {},
   "outputs": [],
   "source": [
    "dfk = pd.DataFrame(kommuner)"
   ]
  },
  {
   "cell_type": "code",
   "execution_count": 83,
   "metadata": {},
   "outputs": [
    {
     "data": {
      "text/html": [
       "<div>\n",
       "<style scoped>\n",
       "    .dataframe tbody tr th:only-of-type {\n",
       "        vertical-align: middle;\n",
       "    }\n",
       "\n",
       "    .dataframe tbody tr th {\n",
       "        vertical-align: top;\n",
       "    }\n",
       "\n",
       "    .dataframe thead th {\n",
       "        text-align: right;\n",
       "    }\n",
       "</style>\n",
       "<table border=\"1\" class=\"dataframe\">\n",
       "  <thead>\n",
       "    <tr style=\"text-align: right;\">\n",
       "      <th></th>\n",
       "      <th>area_kommune</th>\n",
       "      <th>centroid_kommune</th>\n",
       "      <th>fylke_navn_2019</th>\n",
       "      <th>fylke_navn_2020</th>\n",
       "      <th>fylke_nummer_2018</th>\n",
       "      <th>fylke_nummer_2019</th>\n",
       "      <th>fylke_nummer_2020</th>\n",
       "      <th>kommunenummer</th>\n",
       "      <th>navn</th>\n",
       "      <th>oppdateringsdato</th>\n",
       "    </tr>\n",
       "  </thead>\n",
       "  <tbody>\n",
       "    <tr>\n",
       "      <th>0</th>\n",
       "      <td>0.100015</td>\n",
       "      <td>[11.498404769493327, 59.08595732263681]</td>\n",
       "      <td>ØSTFOLD</td>\n",
       "      <td>VIKEN</td>\n",
       "      <td>01</td>\n",
       "      <td>01</td>\n",
       "      <td>30</td>\n",
       "      <td>0101</td>\n",
       "      <td>Halden</td>\n",
       "      <td>2018-12-10T00:00:00</td>\n",
       "    </tr>\n",
       "  </tbody>\n",
       "</table>\n",
       "</div>"
      ],
      "text/plain": [
       "   area_kommune                         centroid_kommune fylke_navn_2019  \\\n",
       "0      0.100015  [11.498404769493327, 59.08595732263681]         ØSTFOLD   \n",
       "\n",
       "  fylke_navn_2020 fylke_nummer_2018 fylke_nummer_2019 fylke_nummer_2020  \\\n",
       "0           VIKEN                01                01                30   \n",
       "\n",
       "  kommunenummer    navn     oppdateringsdato  \n",
       "0          0101  Halden  2018-12-10T00:00:00  "
      ]
     },
     "execution_count": 83,
     "metadata": {},
     "output_type": "execute_result"
    }
   ],
   "source": [
    "dfk.head(1)"
   ]
  },
  {
   "cell_type": "code",
   "execution_count": 84,
   "metadata": {},
   "outputs": [],
   "source": [
    "dfb = pd.read_csv('https://data.ssb.no/api/v0/dataset/1080.csv?lang=no', sep=';', encoding='latin1')"
   ]
  },
  {
   "cell_type": "code",
   "execution_count": 85,
   "metadata": {},
   "outputs": [
    {
     "data": {
      "text/html": [
       "<div>\n",
       "<style scoped>\n",
       "    .dataframe tbody tr th:only-of-type {\n",
       "        vertical-align: middle;\n",
       "    }\n",
       "\n",
       "    .dataframe tbody tr th {\n",
       "        vertical-align: top;\n",
       "    }\n",
       "\n",
       "    .dataframe thead th {\n",
       "        text-align: right;\n",
       "    }\n",
       "</style>\n",
       "<table border=\"1\" class=\"dataframe\">\n",
       "  <thead>\n",
       "    <tr style=\"text-align: right;\">\n",
       "      <th></th>\n",
       "      <th>region</th>\n",
       "      <th>alder</th>\n",
       "      <th>år</th>\n",
       "      <th>statistikkvariabel</th>\n",
       "      <th>07459: Befolkning, etter region, alder, år og statistikkvariabel</th>\n",
       "      <th>kommune</th>\n",
       "    </tr>\n",
       "  </thead>\n",
       "  <tbody>\n",
       "    <tr>\n",
       "      <th>0</th>\n",
       "      <td>0101 Halden (-2019)</td>\n",
       "      <td>000 0 år</td>\n",
       "      <td>2019</td>\n",
       "      <td>Personer</td>\n",
       "      <td>245</td>\n",
       "      <td>0101</td>\n",
       "    </tr>\n",
       "    <tr>\n",
       "      <th>1</th>\n",
       "      <td>0101 Halden (-2019)</td>\n",
       "      <td>001 1 år</td>\n",
       "      <td>2019</td>\n",
       "      <td>Personer</td>\n",
       "      <td>309</td>\n",
       "      <td>0101</td>\n",
       "    </tr>\n",
       "    <tr>\n",
       "      <th>2</th>\n",
       "      <td>0101 Halden (-2019)</td>\n",
       "      <td>002 2 år</td>\n",
       "      <td>2019</td>\n",
       "      <td>Personer</td>\n",
       "      <td>311</td>\n",
       "      <td>0101</td>\n",
       "    </tr>\n",
       "    <tr>\n",
       "      <th>3</th>\n",
       "      <td>0101 Halden (-2019)</td>\n",
       "      <td>003 3 år</td>\n",
       "      <td>2019</td>\n",
       "      <td>Personer</td>\n",
       "      <td>303</td>\n",
       "      <td>0101</td>\n",
       "    </tr>\n",
       "    <tr>\n",
       "      <th>4</th>\n",
       "      <td>0101 Halden (-2019)</td>\n",
       "      <td>004 4 år</td>\n",
       "      <td>2019</td>\n",
       "      <td>Personer</td>\n",
       "      <td>318</td>\n",
       "      <td>0101</td>\n",
       "    </tr>\n",
       "  </tbody>\n",
       "</table>\n",
       "</div>"
      ],
      "text/plain": [
       "                region     alder    år statistikkvariabel  \\\n",
       "0  0101 Halden (-2019)  000 0 år  2019           Personer   \n",
       "1  0101 Halden (-2019)  001 1 år  2019           Personer   \n",
       "2  0101 Halden (-2019)  002 2 år  2019           Personer   \n",
       "3  0101 Halden (-2019)  003 3 år  2019           Personer   \n",
       "4  0101 Halden (-2019)  004 4 år  2019           Personer   \n",
       "\n",
       "   07459: Befolkning, etter region, alder, år og statistikkvariabel kommune  \n",
       "0                                                245                   0101  \n",
       "1                                                309                   0101  \n",
       "2                                                311                   0101  \n",
       "3                                                303                   0101  \n",
       "4                                                318                   0101  "
      ]
     },
     "execution_count": 85,
     "metadata": {},
     "output_type": "execute_result"
    }
   ],
   "source": [
    "dfb['kommune'] = dfb['region'].apply(lambda x: x[0:4])\n",
    "dfb.head()"
   ]
  },
  {
   "cell_type": "code",
   "execution_count": 86,
   "metadata": {},
   "outputs": [],
   "source": [
    "dfb_grouped = dfb[['07459: Befolkning, etter region, alder, år og statistikkvariabel','kommune','år']].groupby(['kommune','år']).sum().reset_index()"
   ]
  },
  {
   "cell_type": "code",
   "execution_count": 87,
   "metadata": {},
   "outputs": [],
   "source": [
    "dfb_grouped.columns=['kommunenummer', 'år','befolkning']"
   ]
  },
  {
   "cell_type": "code",
   "execution_count": 88,
   "metadata": {},
   "outputs": [
    {
     "data": {
      "text/html": [
       "<div>\n",
       "<style scoped>\n",
       "    .dataframe tbody tr th:only-of-type {\n",
       "        vertical-align: middle;\n",
       "    }\n",
       "\n",
       "    .dataframe tbody tr th {\n",
       "        vertical-align: top;\n",
       "    }\n",
       "\n",
       "    .dataframe thead th {\n",
       "        text-align: right;\n",
       "    }\n",
       "</style>\n",
       "<table border=\"1\" class=\"dataframe\">\n",
       "  <thead>\n",
       "    <tr style=\"text-align: right;\">\n",
       "      <th></th>\n",
       "      <th>kommunenummer</th>\n",
       "      <th>år</th>\n",
       "      <th>befolkning</th>\n",
       "    </tr>\n",
       "  </thead>\n",
       "  <tbody>\n",
       "    <tr>\n",
       "      <th>0</th>\n",
       "      <td>0101</td>\n",
       "      <td>2019</td>\n",
       "      <td>31177</td>\n",
       "    </tr>\n",
       "  </tbody>\n",
       "</table>\n",
       "</div>"
      ],
      "text/plain": [
       "  kommunenummer    år  befolkning\n",
       "0          0101  2019       31177"
      ]
     },
     "execution_count": 88,
     "metadata": {},
     "output_type": "execute_result"
    }
   ],
   "source": [
    "dfb_grouped.head(1)"
   ]
  },
  {
   "cell_type": "code",
   "execution_count": 89,
   "metadata": {},
   "outputs": [],
   "source": [
    "df_m = pd.merge(dfb_grouped,dfk, on='kommunenummer', how='left')"
   ]
  },
  {
   "cell_type": "code",
   "execution_count": 91,
   "metadata": {},
   "outputs": [
    {
     "data": {
      "text/html": [
       "<div>\n",
       "<style scoped>\n",
       "    .dataframe tbody tr th:only-of-type {\n",
       "        vertical-align: middle;\n",
       "    }\n",
       "\n",
       "    .dataframe tbody tr th {\n",
       "        vertical-align: top;\n",
       "    }\n",
       "\n",
       "    .dataframe thead th {\n",
       "        text-align: right;\n",
       "    }\n",
       "</style>\n",
       "<table border=\"1\" class=\"dataframe\">\n",
       "  <thead>\n",
       "    <tr style=\"text-align: right;\">\n",
       "      <th></th>\n",
       "      <th>kommunenummer</th>\n",
       "      <th>år</th>\n",
       "      <th>befolkning</th>\n",
       "      <th>area_kommune</th>\n",
       "      <th>centroid_kommune</th>\n",
       "      <th>fylke_navn_2019</th>\n",
       "      <th>fylke_navn_2020</th>\n",
       "      <th>fylke_nummer_2018</th>\n",
       "      <th>fylke_nummer_2019</th>\n",
       "      <th>fylke_nummer_2020</th>\n",
       "      <th>navn</th>\n",
       "      <th>oppdateringsdato</th>\n",
       "    </tr>\n",
       "  </thead>\n",
       "  <tbody>\n",
       "    <tr>\n",
       "      <th>0</th>\n",
       "      <td>0101</td>\n",
       "      <td>2019</td>\n",
       "      <td>31177</td>\n",
       "      <td>0.100015</td>\n",
       "      <td>[11.498404769493327, 59.08595732263681]</td>\n",
       "      <td>ØSTFOLD</td>\n",
       "      <td>VIKEN</td>\n",
       "      <td>01</td>\n",
       "      <td>01</td>\n",
       "      <td>30</td>\n",
       "      <td>Halden</td>\n",
       "      <td>2018-12-10T00:00:00</td>\n",
       "    </tr>\n",
       "  </tbody>\n",
       "</table>\n",
       "</div>"
      ],
      "text/plain": [
       "  kommunenummer    år  befolkning  area_kommune  \\\n",
       "0          0101  2019       31177      0.100015   \n",
       "\n",
       "                          centroid_kommune fylke_navn_2019 fylke_navn_2020  \\\n",
       "0  [11.498404769493327, 59.08595732263681]         ØSTFOLD           VIKEN   \n",
       "\n",
       "  fylke_nummer_2018 fylke_nummer_2019 fylke_nummer_2020    navn  \\\n",
       "0                01                01                30  Halden   \n",
       "\n",
       "      oppdateringsdato  \n",
       "0  2018-12-10T00:00:00  "
      ]
     },
     "execution_count": 91,
     "metadata": {},
     "output_type": "execute_result"
    }
   ],
   "source": [
    "df_m.head(1)"
   ]
  },
  {
   "cell_type": "code",
   "execution_count": 97,
   "metadata": {},
   "outputs": [],
   "source": [
    "df_m['latitude'] = df_m['centroid_kommune'][0][1]\n",
    "df_m['longitude'] = df_m['centroid_kommune'][0][0]"
   ]
  },
  {
   "cell_type": "code",
   "execution_count": 98,
   "metadata": {},
   "outputs": [],
   "source": [
    "df_m[['kommunenummer', 'år','befolkning','latitude','longitude','fylke_navn_2019', 'fylke_navn_2020']].to_csv('befolkning_kommuner_år.csv', index=False)  "
   ]
  },
  {
   "cell_type": "code",
   "execution_count": null,
   "metadata": {},
   "outputs": [],
   "source": []
  }
 ],
 "metadata": {
  "kernelspec": {
   "display_name": "geo37",
   "language": "python",
   "name": "geo37"
  },
  "language_info": {
   "codemirror_mode": {
    "name": "ipython",
    "version": 3
   },
   "file_extension": ".py",
   "mimetype": "text/x-python",
   "name": "python",
   "nbconvert_exporter": "python",
   "pygments_lexer": "ipython3",
   "version": "3.7.3"
  },
  "varInspector": {
   "cols": {
    "lenName": 16,
    "lenType": 16,
    "lenVar": 40
   },
   "kernels_config": {
    "python": {
     "delete_cmd_postfix": "",
     "delete_cmd_prefix": "del ",
     "library": "var_list.py",
     "varRefreshCmd": "print(var_dic_list())"
    },
    "r": {
     "delete_cmd_postfix": ") ",
     "delete_cmd_prefix": "rm(",
     "library": "var_list.r",
     "varRefreshCmd": "cat(var_dic_list()) "
    }
   },
   "types_to_exclude": [
    "module",
    "function",
    "builtin_function_or_method",
    "instance",
    "_Feature"
   ],
   "window_display": false
  }
 },
 "nbformat": 4,
 "nbformat_minor": 2
}
